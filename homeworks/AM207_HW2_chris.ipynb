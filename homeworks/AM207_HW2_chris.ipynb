{
 "cells": [
  {
   "cell_type": "markdown",
   "metadata": {},
   "source": [
    "# AM207 Homework 2\n",
    "\n",
    "##### Data: wine_quality_missing.csv\n",
    "\n",
    "**Harvard University**<br>\n",
    "**Fall 2018**<br>\n",
    "**Instructors: Rahul Dave**<br>\n",
    "**Due Date: ** Saturday, September 22nd, 2018 at 11:59pm\n",
    "\n",
    "# Name:  Christopher Buswinka\n",
    "\n",
    "**Instructions:**\n",
    "\n",
    "- Upload your final answers in the form of a Jupyter notebook containing all work to Canvas.\n",
    "\n",
    "- Structure your notebook and your work to maximize readability."
   ]
  },
  {
   "cell_type": "code",
   "execution_count": 2,
   "metadata": {
    "collapsed": true
   },
   "outputs": [],
   "source": [
    "import numpy as np\n",
    "import scipy.stats\n",
    "import scipy.special\n",
    "from matplotlib.ticker import LinearLocator, FormatStrFormatter\n",
    "from mpl_toolkits.mplot3d import Axes3D\n",
    "import matplotlib\n",
    "import matplotlib.pyplot as plt\n",
    "import matplotlib.mlab as mlab\n",
    "from matplotlib import cm\n",
    "import pandas as pd\n",
    "%matplotlib inline"
   ]
  },
  {
   "cell_type": "markdown",
   "metadata": {},
   "source": [
    "## Question 1: Give Me the Full Monte, Carlo Ancelotti\n",
    "\n",
    "**Coding required**\n",
    "\n",
    "In the quiet moments that transpire just before the sun rises that find us taking the walk of shame we can only send up quiet prayers to deities unknown that our path has not unknowingly taken us down the Boulevard of Broken Dreams (*Green Day*).  Along this road you'll find scattered the shattered hearts of formerly aspiring humorists -- the sorts of folk who might admire \"the giggle at a funeral\" (*Hozier*) distributed according to the function $\\heartsuit(\\theta) \\sim \\frac{ {\\rm sin^{24}}\\theta}{\\theta^2}$ from $0< \\theta< \\infty$ and otherwise.  As a current aspiring humorist, it is your job to try to integrate $\\heartsuit(\\theta)$ in order to size up the jar you'll take with you as you go heart collecting (*Christina Perri*).  Who do you think you are anyway?\n",
    "\n",
    "1.1. Visualize $\\heartsuit(\\theta)$.  Make sure your plot includes a title and axes labels.\n",
    "\n",
    "1.2. The domain of $\\heartsuit(\\theta)$ is unbounded.  The version of Monte Carlo that we've explored so far requires a bounded domain.  Make an argument that we can integrate this function over the bounded domain [0, M] and get an accurate result.  What value of M should you choose to get a result within 0.001 of the exact solution?\n",
    "\n",
    "1.3. Write a function `simulate_heart_collection` to estimate $\\int_{0}^{\\infty}\\heartsuit (\\theta) $ using the standard Monte Carlo method with $N=100000$.  Use the bounds you justified in 1.2.  What is your estimate?\n",
    "\n",
    "1.4. It turns out that integrals of the form $\\int_{0}^{\\infty} \\frac{ {\\rm sin}x^{2n}}{x^2} dx$ have the closed form solution $\\frac{\\pi}{2^{2n-1}} \\binom{2n-2}{n-1}$.  How accurate was your estimate?\n",
    "\n",
    "1.5. The teaching staff of AM 207 has gone on and on in class and lab about putting error bars on estimates and finding confidence intervals.  In order to do this you need to run your experiment a number of times. Repeat your estimation process 1000 times and plot a histogram of your results marking the exact answer and your estimate with a vertical line.  \n",
    "\n",
    "1.6. Based on your experiments, find the standard error of your estimate as well as a 95% confidence interval.  Was the true value of $\\int_{0}^{\\infty}\\heartsuit (\\theta)$ within the 95% confidence interval?\n",
    "\n",
    "1.7. It turns out that an appropriately chosen change of variables will allow you to estimate the integral on the part of the domain you truncated in 1.2 and 1.3.  Execute this change of variables and use monte carlo integration to evaluate $\\int_{M}^{\\infty}\\heartsuit (\\theta) $\n",
    "\n",
    "1.8. Based on your answer in 1.7 was your choice of M justified? "
   ]
  },
  {
   "cell_type": "markdown",
   "metadata": {},
   "source": [
    "### Answers"
   ]
  },
  {
   "cell_type": "markdown",
   "metadata": {},
   "source": [
    "<div class=\"answer-separator\">\n",
    "------------------------\n",
    "</div>"
   ]
  },
  {
   "cell_type": "markdown",
   "metadata": {},
   "source": [
    "<h4>1.1. Visualize $\\heartsuit(\\theta)$.  Make sure your plot includes a title and axes labels.</h4>"
   ]
  },
  {
   "cell_type": "code",
   "execution_count": 3,
   "metadata": {},
   "outputs": [
    {
     "name": "stdout",
     "output_type": "stream",
     "text": [
      "\n"
     ]
    },
    {
     "data": {
      "image/png": "[encoded data removed]",
      "text/plain": [
       "<matplotlib.figure.Figure at 0x107117748>"
      ]
     },
     "metadata": {},
     "output_type": "display_data"
    }
   ],
   "source": [
    "def hozdist(o):\n",
    "    x = np.sin(o)**24 / o**2 # Create a function of the distribution\n",
    "    \n",
    "    return x\n",
    "\n",
    "o = np.logspace(0,3,10000); #create a theta input vector\n",
    "\n",
    "plt.semilogx(o,hozdist(o))  #Plotting\n",
    "plt.xlabel(r'$\\theta$')\n",
    "plt.ylabel(r'$ \\heartsuit(\\theta)$')\n",
    "plt.title('Distribtuition of the Shattered Hearts of Formerly Aspiring Humorists')\n",
    "print('')"
   ]
  },
  {
   "cell_type": "markdown",
   "metadata": {},
   "source": [
    "<div class=\"answer-separator\">\n",
    "------------------------\n",
    "</div>"
   ]
  },
  {
   "cell_type": "markdown",
   "metadata": {},
   "source": [
    "<h4>1.2. The domain of $\\heartsuit(\\theta)$ is unbounded.  The version of Monte Carlo that we've explored so far requires a bounded domain.  Make an argument that we can integrate this function over a bounded domain and get an accurate result.  What bounds should you choose to get a result within 0.001 of the exact solution?</h4>"
   ]
  },
  {
   "cell_type": "markdown",
   "metadata": {},
   "source": [
    "<div class=\"answer\">\n",
    "\n",
    "<br>\n",
    "The distribution is a periodic function with an amplitude decaying at a rate of $\\frac{1}{\\theta^2}$. This decays to zero extreemly quickly, therefore we may choose any suitably large theta as our upper bound and expect a reasonably accurate answer.  In this case $10^2$ may be sufficient. \n",
    "<br>\n",
    "\n",
    "</div>"
   ]
  },
  {
   "cell_type": "markdown",
   "metadata": {},
   "source": [
    "<div class=\"answer-separator\">\n",
    "------------------------\n",
    "</div>"
   ]
  },
  {
   "cell_type": "markdown",
   "metadata": {},
   "source": [
    "<h4>1.3. Write a function `simulate_heart_collection` to estimate $\\int_{0}^{\\infty}\\heartsuit (\\theta) $ using the standard Monte Carlo method with $N=100000$.  Use the bounds you justified in 1.2.  What is your estimate?</h4>"
   ]
  },
  {
   "cell_type": "code",
   "execution_count": 18,
   "metadata": {},
   "outputs": [
    {
     "name": "stdout",
     "output_type": "stream",
     "text": [
      "Estimated value of integral:  0.25301247126497695\n"
     ]
    }
   ],
   "source": [
    "def simulate_heart_collection(N,upper):  #create a function for MCMC of the integral\n",
    "    sims = np.random.uniform(0,upper,N) #upper is the upper bounds of the integral\n",
    "    out = hozdist(sims) #hozdist is the pdf \n",
    "    sums = np.sum(out) \n",
    "    \n",
    "    return sums*upper/N \n",
    "\n",
    "simint = simulate_heart_collection(100000,100) #run the MCMC with 100000 samples and an upper bound of 100\n",
    "print('Estimated value of integral: ', simint)"
   ]
  },
  {
   "cell_type": "markdown",
   "metadata": {},
   "source": [
    "<div class=\"answer-separator\">\n",
    "------------------------\n",
    "</div>"
   ]
  },
  {
   "cell_type": "markdown",
   "metadata": {},
   "source": [
    "<h4>1.4. It turns out that integrals of the form $\\int_{0}^{\\infty} \\frac{ {\\rm sin}x^{2n}}{x^2} dx$ have the closed form solution $\\frac{\\pi}{2^{2n-1}} \\binom{2n-2}{n-1}$.  How accurate was your estimate?</h4>"
   ]
  },
  {
   "cell_type": "code",
   "execution_count": 19,
   "metadata": {
    "collapsed": true
   },
   "outputs": [],
   "source": [
    "def exact_dist(n):\n",
    "    x = scipy.special.binom(2*n-2,n-1) * np.pi/(2**(2*n - 1)) #evaluate the exact form of the integral\n",
    "    \n",
    "    return x "
   ]
  },
  {
   "cell_type": "code",
   "execution_count": 20,
   "metadata": {},
   "outputs": [
    {
     "name": "stdout",
     "output_type": "stream",
     "text": [
      "The exact value of the integral is:  0.26418924198235927\n",
      "The difference between the approximated integral and actual value was within  0.011176770717382323\n"
     ]
    }
   ],
   "source": [
    "print('The exact value of the integral is: ',exact_dist(12))\n",
    "diff = abs(simint - exact_dist(12))\n",
    "print('The difference between the approximated integral and actual value was within ', diff )"
   ]
  },
  {
   "cell_type": "markdown",
   "metadata": {},
   "source": [
    "<div class=\"answer-separator\">\n",
    "------------------------\n",
    "</div>"
   ]
  },
  {
   "cell_type": "markdown",
   "metadata": {},
   "source": [
    "<h4>1.5. The teaching staff of AM 207 has gone on and on in class and lab about putting error bars on estimates and finding confidence intervals.  In order to do this you need to run your experiment a number of times.  Repeat your estimation process 1000 times and plot a histogram of your results marking the exact answer and your estimate with a vertical line.</h4>"
   ]
  },
  {
   "cell_type": "code",
   "execution_count": 7,
   "metadata": {},
   "outputs": [
    {
     "data": {
      "text/plain": [
       "<matplotlib.legend.Legend at 0x1a17725ba8>"
      ]
     },
     "execution_count": 7,
     "metadata": {},
     "output_type": "execute_result"
    },
    {
     "data": {
      "image/png": "[encoded data removed]",
      "text/plain": [
       "<Figure size 432x288 with 1 Axes>"
      ]
     },
     "metadata": {},
     "output_type": "display_data"
    }
   ],
   "source": [
    "results = np.ones(1000)\n",
    "for i in range(1000):\n",
    "    results[i] = simulate_heart_collection(100000,100)  #Run the simulation 1000 times!\n",
    "\n",
    "plt.figure()\n",
    "plt.hist(results,bins=30)\n",
    "plt.axvline(x=exact_dist(12),color ='r')\n",
    "plt.xlabel('Estimated Value')\n",
    "plt.ylabel('Occurance')\n",
    "plt.legend(['Actual Value','MCMC Estimates'])"
   ]
  },
  {
   "cell_type": "markdown",
   "metadata": {},
   "source": [
    "<div class=\"answer-separator\">\n",
    "------------------------\n",
    "</div>"
   ]
  },
  {
   "cell_type": "markdown",
   "metadata": {},
   "source": [
    "<h4>1.6. Based on your experiments, find the standard error of your estimate as well as a 95% confidence interval.  Was the true value of $\\int_{0}^{\\infty}\\heartsuit (\\theta)$ within the 95% confidence interval?</h4>"
   ]
  },
  {
   "cell_type": "code",
   "execution_count": 8,
   "metadata": {},
   "outputs": [
    {
     "name": "stdout",
     "output_type": "stream",
     "text": [
      "\n",
      "\n",
      "The standard error of the mean is:  0.0002589155142939437\n",
      "The 95 confidence intervals are:  [0.24670611 0.27928671]\n",
      "The actual value of the integral is within the 95% confidence intervals!\n",
      "\n",
      "\n"
     ]
    }
   ],
   "source": [
    "sem = np.std(results)/np.sqrt(1000)\n",
    "percentile = np.percentile(results,[2.5,97.5]) \n",
    "\n",
    "print('\\n\\nThe standard error of the mean is: ', sem)\n",
    "print('The 95 confidence intervals are: ',percentile)\n",
    "\n",
    "if exact_dist(12) > np.min(percentile) and exact_dist(12) < np.max(percentile):\n",
    "    print('The actual value of the integral is within the 95% confidence intervals!\\n\\n')\n"
   ]
  },
  {
   "cell_type": "markdown",
   "metadata": {},
   "source": [
    "<div class=\"answer-separator\">\n",
    "------------------------\n",
    "</div>"
   ]
  },
  {
   "cell_type": "markdown",
   "metadata": {},
   "source": [
    "<h4>1.7. It turns out that an appropriately chosen change of variables will allow you to estimate the integral on the part of the domain you truncated in 1.2 and 1.3.  Execute this change of variables and use monte carlo integration to evaluate $\\int_{M}^{\\infty}\\heartsuit (\\theta) $\n",
    "</h4>"
   ]
  },
  {
   "cell_type": "code",
   "execution_count": 21,
   "metadata": {},
   "outputs": [
    {
     "name": "stdout",
     "output_type": "stream",
     "text": [
      "The integral from M to inf is:  0.001606854049063238\n"
     ]
    }
   ],
   "source": [
    "def cov_hozdif(t):\n",
    "    x = (1/t**2) * np.sin(1/t)**24 / ((1/t)**2)   #Create the change of variables (COV) distribution. Use 1/t transform\n",
    "    return x \n",
    " \n",
    "def changeofvar(N,lower):                         #Run the MCMC on the change of variables distribtion\n",
    "    sims = np.random.uniform(0,1/lower,N)         #run bound from 0 to 1/upper bound. 1/inf -> 0. \n",
    "    out = cov_hozdif(sims)\n",
    "    sums = np.sum(out)\n",
    "    \n",
    "    return sums*(1/lower)/N\n",
    "\n",
    "print('The integral from M to inf is: ', changeofvar(100000,100))"
   ]
  },
  {
   "cell_type": "markdown",
   "metadata": {},
   "source": [
    "<div class=\"answer-separator\">\n",
    "------------------------\n",
    "</div>"
   ]
  },
  {
   "cell_type": "markdown",
   "metadata": {},
   "source": [
    "<h4>1.8. Based on your answer in 1.7 was your choice of M justified?\n",
    "</h4>"
   ]
  },
  {
   "cell_type": "code",
   "execution_count": 21,
   "metadata": {},
   "outputs": [
    {
     "name": "stdout",
     "output_type": "stream",
     "text": [
      "Integral from 100 to inf mean result:  0.0016026860248210943 \n",
      "STD:  9.5053409978883e-06\n"
     ]
    },
    {
     "data": {
      "image/png": "[encoded data removed]",
      "text/plain": [
       "<Figure size 432x288 with 1 Axes>"
      ]
     },
     "metadata": {},
     "output_type": "display_data"
    }
   ],
   "source": [
    "results = np.ones(1000)\n",
    "\n",
    "for i in range(1000):\n",
    "    results[i] = changeofvar(100000,100)     #Run the MCMC on the change of variables distribution 100 times\n",
    "    \n",
    "plt.figure()\n",
    "plt.hist(results,bins=30)\n",
    "sem = np.std(results)/np.sqrt(1000)\n",
    "percentile = np.percentile(results,[2.5,97.5])\n",
    "print('Integral from 100 to inf mean result: ', np.mean(results),'\\nSTD: ',np.std(results))"
   ]
  },
  {
   "cell_type": "markdown",
   "metadata": {},
   "source": [
    "<div class=\"answer\">\n",
    "\n",
    "<br>\n",
    "Based on the change of varibles integral from M to inf, 100 is too small to be within .001 away from the correct answer. Running multiple itterations of MCMC from 100 to inf show that the mean value of the integral is approximately 0.0016 with a standard deviation of approximately 9.5e-06 and 95% confidence intervals of near [0.00158517, 0.00162149].  From this we can determine that 0.001 is outside the 95% confidence intervals and we can be reasonably sure that an upper bound of 100 is too large to determine the integral within 0.001 accuracy. \n",
    "<br>\n",
    "\n",
    "</div>"
   ]
  },
  {
   "cell_type": "markdown",
   "metadata": {},
   "source": [
    "<div class=\"answer-separator\">\n",
    "------------------------\n",
    "</div>"
   ]
  },
  {
   "cell_type": "markdown",
   "metadata": {},
   "source": [
    "## Question 2: Rally to Me! \n",
    "\n",
    "**Some Coding required**\n",
    "\n",
    "Suppose you observe the following data set $\\mathbf{x}^{(0)} = (0.5, 2.5), \\mathbf{x}^{(1)} = (3.2, 1.3), \\mathbf{x}^{(2)} = (2.72, 5.84), \\mathbf{x}^{(3)}= (10.047, 0.354)$. By convention, for any vector $\\mathbf{x}$, we will denote the first component of $\\mathbf{x}$ by $x_{1}$ and the second component by $x_{2}$. Suppose that the data is drawn from the same two-dimensional probability distribution with pdf $f_X$, that is, $\\mathbf{x}^{(i)} \\overset{iid}{\\sim} f_X$, where\n",
    "$$\n",
    "f_X(\\mathbf{x}) =  4\\lambda_1^2 x_{1}x_{2} \\mathrm{exp} \\left\\{-\\lambda_0 (x^2_{1} + x^2_{2}) \\right\\}.\n",
    "$$\n",
    "You should assume that $\\lambda_1, \\lambda_0 > 0$ and that $f_X$ is supported on the nonnegative quandrant of $\\mathbb{R}^2$ (i.e. $f_X$ is zero when either component is negative). \n",
    "\n",
    "2.1. What are the values for $\\lambda_0$ and $\\lambda_1$ that maximize the likelihood of the observed data?  **Support your answer with full and rigorous analytic derivations.**\n",
    "\n",
    "2.2. Visualize the data along with the distribution you determined in 2.1 (in two dimensions or three).\n"
   ]
  },
  {
   "cell_type": "markdown",
   "metadata": {},
   "source": [
    "### Answers"
   ]
  },
  {
   "cell_type": "markdown",
   "metadata": {},
   "source": [
    "<div class=\"answer-separator\">\n",
    "------------------------\n",
    "</div>"
   ]
  },
  {
   "cell_type": "markdown",
   "metadata": {},
   "source": [
    "<h4>2.1. What are the values for $\\lambda_0$ and $\\lambda_1$ that maximize the likelihood of the observed data?</h4>"
   ]
  },
  {
   "cell_type": "markdown",
   "metadata": {},
   "source": [
    "<div class=\"answer\">\n",
    "\n",
    "<br>\n",
    "Let $f$ be a PDF such that $\\mathbf{x}^{(i)} \\overset{iid}{\\sim} f$\n",
    "We can then say that $\\int_{A}f_XdA = 1$ where A is the dimensions of $\\mathbf{x}^{(i)}$.   \n",
    "\n",
    "We now define a specific PDF $f_X$ to be $f_X(\\mathbf{x}) =  4\\lambda_1^2 x_{1}x_{2} \\mathrm{exp} \\left\\{-\\lambda_0 (x^2_{1} + x^2_{2}) \\right\\}$ where $f_X = 0$ on the negative part of $\\mathbb{R}^2$.  Thus we can show:    \n",
    "$$\n",
    "\\int_{0}^{\\infty}\\int_{0}^{\\infty} 4\\lambda_1^2 x_{1}x_{2} \\mathrm{exp} \\left\\{-\\lambda_0 (x^2_{1} + x^2_{2}) \\right\\} dx_1dx_2 = 1\n",
    "$$\n",
    "$$\n",
    "=\\int_{0}^{\\infty}2\\lambda_1 x_{2}\\mathrm{exp} \\left\\{-\\lambda_0 (x^2_{2})\\right\\} \\int_{0}^{\\infty} 2\\lambda_1 x_{1} \\mathrm{exp} \\left\\{-\\lambda_0 (x^2_{1}) \\right\\} dx_1dx_2 = 1\n",
    "$$\n",
    "$$\n",
    "=\\int_{0}^{\\infty}2\\lambda_1 x_{2}\\mathrm{exp} \\left\\{-\\lambda_0 (x^2_{2})\\right\\}[\\frac{-\\lambda_1 }{\\lambda_0}e^{-\\lambda_0x_{1}^2} \\lvert_{0}^{\\infty}]dx_2 = 1\n",
    "$$\n",
    "$$\n",
    "=\\frac{\\lambda_1 }{\\lambda_0} \\int_{0}^{\\infty}2\\lambda_1 x_{2}\\mathrm{exp} \\left\\{-\\lambda_0 (x^2_{2})\\right\\}dx_2 = 1\n",
    "$$\n",
    "$$\n",
    "=\\frac{\\lambda_1 }{\\lambda_0} [\\frac{-\\lambda_1 }{\\lambda_0}e^{-\\lambda_0x_{2}^2} \\lvert_{0}^{\\infty}] = \\frac{\\lambda_1 }{\\lambda_0}\\frac{\\lambda_1 }{\\lambda_0}=1\n",
    "$$\n",
    "$$\n",
    "\\frac{\\lambda_1^2}{\\lambda_0^2} = 1 \n",
    "$$\n",
    "$$\n",
    "\\lambda_1^2 = \\lambda_0^2\n",
    "$$\n",
    "$$\n",
    "\\lambda_1 = \\lambda_0\n",
    "$$\n",
    "We can now revise the original PDF to be\n",
    "$f_X(\\mathbf{x}) =  4\\lambda^2 x_{1}x_{2} \\mathrm{exp} \\left\\{-\\lambda (x^2_{1} + x^2_{2}) \\right\\}$\n",
    "     \n",
    "The likelyhood of a PDF can be defined by \n",
    "$$\n",
    "L(\\lambda) = {\\displaystyle \\prod_{i=1}^{n} P(\\mathbf{x}\\lvert\\lambda)}\n",
    "$$\n",
    "In this case, our PDF is increasing, thus we may maximize the likelyhood by maximizing the log-likelyhood\n",
    "$$\n",
    "\\ell(\\lambda) = {\\displaystyle \\sum_{i=1}^{n} ln(P(\\mathbf{x}\\lvert\\lambda))}\n",
    "$$\n",
    "\n",
    "$\\ell(\\lambda)$ is maximized when $\\frac{d\\ell}{d\\lambda} = 0$. Therefore\n",
    "\n",
    "$$\n",
    "\\ell(\\lambda) = \\sum_{i=1}^{n} ln(4\\lambda^2 x_{1}x_{2} \\mathrm{exp} \\left\\{-\\lambda (x^2_{1} + x^2_{2}) \\right\\})\n",
    "$$\n",
    "$$\n",
    "\\ell(\\lambda) = nln(4)+nln(\\lambda^2)+\\sum_{i=1}^{n} ln(x_{1}x_{2}) + \\sum_{i=1}^{n} -\\lambda (x^2_{1} + x^2_{2})\n",
    "$$\n",
    "$$\n",
    "\\frac{d\\ell}{d\\lambda} = \\frac{2n}{\\lambda} - \\sum_{i=1}^{n}  (x^2_{1} + x^2_{2}) = 0\n",
    "$$\n",
    "$$\n",
    " \\frac{2n}{\\lambda} = \\sum_{i=1}^{n}  (x^2_{1} + x^2_{2} )\n",
    "$$\n",
    "$$\n",
    " \\frac{2n}{\\sum_{i=1}^{n}  (x^2_{1} + x^2_{2} )} = \\hat{\\lambda}_{MLE}\n",
    "$$\n",
    "<br>\n",
    "\n",
    "</div>"
   ]
  },
  {
   "cell_type": "code",
   "execution_count": 11,
   "metadata": {},
   "outputs": [
    {
     "name": "stdout",
     "output_type": "stream",
     "text": [
      "The MLE for lambda is:  0.049688970337392765\n"
     ]
    }
   ],
   "source": [
    "def comp_mle(x,y): #x = x1, y = x2\n",
    "    n = np.size(x)\n",
    "    \n",
    "    g = 2*n / np.sum(x**2 + y**2)   # create a function for the MLE estimaton of lambda\n",
    "    \n",
    "    return g\n",
    "\n",
    "x = np.array([.5,3.2,2.72,10.047])\n",
    "y = np.array([2.5,1.3,5.84,0.354])\n",
    "\n",
    "g = comp_mle(x,y)\n",
    "\n",
    "print('The MLE for lambda is: ', g) #calculate lambda"
   ]
  },
  {
   "cell_type": "markdown",
   "metadata": {},
   "source": [
    "<div class=\"answer-separator\">\n",
    "------------------------\n",
    "</div>"
   ]
  },
  {
   "cell_type": "markdown",
   "metadata": {},
   "source": [
    "<h4>2.2. Visualize the data along with the distribution you determined in 2.1 (in two dimensions or three).</h4>"
   ]
  },
  {
   "cell_type": "code",
   "execution_count": 14,
   "metadata": {},
   "outputs": [
    {
     "data": {
      "text/plain": [
       "Text(0.5,1,'Probability of data along $\\\\mathbf{x}$')"
      ]
     },
     "execution_count": 14,
     "metadata": {},
     "output_type": "execute_result"
    },
    {
     "data": {
      "image/png": "[encoded data removed]",
      "text/plain": [
       "<Figure size 432x288 with 1 Axes>"
      ]
     },
     "metadata": {},
     "output_type": "display_data"
    },
    {
     "data": {
      "image/png": "[encoded data removed]",
      "text/plain": [
       "<Figure size 432x288 with 2 Axes>"
      ]
     },
     "metadata": {},
     "output_type": "display_data"
    }
   ],
   "source": [
    "\n",
    "def ppdf(x,y,g):\n",
    "    m = 4*g**2*x*y*np.exp(-g * (x**2 + y**2)) #Define a function for the pdf\n",
    "    \n",
    "    return m \n",
    "\n",
    "fig = plt.figure()\n",
    "ax = fig.gca(projection='3d')\n",
    "\n",
    "# Make data.\n",
    "X = np.arange(0, 15, 0.25)\n",
    "Y = np.arange(0, 15, 0.25)\n",
    "X, Y = np.meshgrid(X, Y)\n",
    "R = ppdf(X,Y,g)\n",
    "plt.xlabel(r'$X_{1}$')\n",
    "plt.ylabel(r'$X_{2}$')\n",
    "ax.set_zlabel(r'$P(\\mathbf{x})$')\n",
    "plt.title(r'Probability of data along $\\mathbf{x}$')\n",
    "\n",
    "surf = ax.plot_surface(X, Y, R, cmap=cm.coolwarm,linewidth=0, antialiased=False)\n",
    "\n",
    "plt.figure()\n",
    "plt.pcolor(X,Y,R)\n",
    "plt.xlabel(r'$X_{1}$')\n",
    "plt.ylabel(r'$X_{2}$')\n",
    "plt.colorbar()\n",
    "plt.title(r'Probability of data along $\\mathbf{x}$')"
   ]
  },
  {
   "cell_type": "markdown",
   "metadata": {},
   "source": [
    "<div class=\"answer-separator\">\n",
    "------------------------\n",
    "</div>"
   ]
  },
  {
   "cell_type": "markdown",
   "metadata": {},
   "source": [
    "## Question 3: Still Missing! \n",
    "\n",
    "**Coding required**\n",
    "\n",
    "Recall from Homework 1 Question 2 that we explored working with missing data using the wine quality dataset from the UCI Machine Learning Repository.  Re-Read the data in the `wine_quality_missing.csv` into a pandas dataframe and store the dataframe in the variable `wine_df`. \n",
    "\n",
    "3.1. Drop impute `wine_df` and re-calculate estimates of the mean and standard deviation of the values of the Ash feature in the drop imputed dataset.\n",
    "\n",
    "3.2. Use non-parametric bootstrap on the drop imputed dataset to find the standard errors for both your mean and standard deviation estimates.\n",
    "\n",
    "3.3. Mean impute `wine_df` and re-calculate estimates of the mean and standard deviation of the values of the Ash feature in the mean imputed dataset.\n",
    "\n",
    "3.4. Use non-parametric bootstrap on the mean imputed dataset to find the standard errors for both your mean and standard deviation estimates.\n",
    "\n",
    "3.5. Compare the standard errors between the two different types of imputation.  Do they differ?  If so what might be the cause of the difference?\n"
   ]
  },
  {
   "cell_type": "markdown",
   "metadata": {},
   "source": [
    "### Answers"
   ]
  },
  {
   "cell_type": "code",
   "execution_count": 22,
   "metadata": {
    "collapsed": true
   },
   "outputs": [],
   "source": [
    "wine_df = pd.read_csv('wine_quality_missing.csv')\n",
    "data = wine_df.Ash\n",
    "\n",
    "\n",
    "def meanimpute(data):\n",
    "    nanind = np.isnan(data.values)   #create a mean impute function\n",
    "    ind = np.logical_not(nanind)\n",
    "    mean = np.mean(data.values[ind])\n",
    "    data.loc[nanind] = mean\n",
    "    return data\n",
    "\n",
    "\n",
    "def nonpar_boot(data,N):  #create a function which runs a nonparametric bootsrap algorithm and calculates the mean and std\n",
    "    mean = np.ones(N)\n",
    "    std = np.ones(N)\n",
    "    for i in range(N):\n",
    "        newdata = data.sample(n = data.shape[0],replace=True)\n",
    "        mean[i] = np.mean(newdata.values)\n",
    "        std[i] = np.std(newdata.values)\n",
    "    return mean, std"
   ]
  },
  {
   "cell_type": "markdown",
   "metadata": {},
   "source": [
    "<h4>3.1. Drop impute `wine_df` and re-calculate estimates of the mean and standard deviation of the values of the Ash feature in the drop imputed dataset.</h4>"
   ]
  },
  {
   "cell_type": "code",
   "execution_count": 23,
   "metadata": {},
   "outputs": [
    {
     "name": "stdout",
     "output_type": "stream",
     "text": [
      "For Drop Imputed: \n",
      "\n",
      "The mean is:  2.366217948717949 \n",
      "The std is:  0.2822967681693667\n"
     ]
    }
   ],
   "source": [
    "data_di = data.dropna()\n",
    "nonboot_di_mean = np.mean(data_di.values)\n",
    "nonboot_di_std = np.std(data_di.values)\n",
    "print('For Drop Imputed: \\n')\n",
    "print('The mean is: ',nonboot_di_mean, '\\nThe std is: ', nonboot_di_std)"
   ]
  },
  {
   "cell_type": "markdown",
   "metadata": {},
   "source": [
    "<div class=\"answer-separator\">\n",
    "------------------------\n",
    "</div>"
   ]
  },
  {
   "cell_type": "markdown",
   "metadata": {},
   "source": [
    "<h4>3.2. Use non-parametric bootstrap on the drop imputed dataset to find the standard errors for both your mean and standard deviation estimates.</h4>"
   ]
  },
  {
   "cell_type": "code",
   "execution_count": 17,
   "metadata": {},
   "outputs": [
    {
     "name": "stdout",
     "output_type": "stream",
     "text": [
      "The SE of mean is:  0.02366515217948718\n",
      "The SE of std is:  0.002806094780416851\n"
     ]
    }
   ],
   "source": [
    "N = 10000\n",
    "mean, std = nonpar_boot(data_di,N)\n",
    "\n",
    "print('The SE of mean is: ', np.mean(mean)/np.sqrt(N))\n",
    "print('The SE of std is: ', np.mean(std)/np.sqrt(N))"
   ]
  },
  {
   "cell_type": "markdown",
   "metadata": {},
   "source": [
    "<div class=\"answer-separator\">\n",
    "------------------------\n",
    "</div>"
   ]
  },
  {
   "cell_type": "markdown",
   "metadata": {},
   "source": [
    "<h4>3.3. Mean impute `wine_df` and re-calculate estimates of the mean and standard deviation of the values of the Ash feature in the mean imputed dataset.</h4>"
   ]
  },
  {
   "cell_type": "code",
   "execution_count": 18,
   "metadata": {},
   "outputs": [
    {
     "name": "stdout",
     "output_type": "stream",
     "text": [
      "\n",
      "\n",
      "For Mean Imputed:\n",
      "\n",
      "The mean is:  2.366217948717949 \n",
      "The std is:  0.26427629172770306\n"
     ]
    },
    {
     "name": "stderr",
     "output_type": "stream",
     "text": [
      "/Users/chrisbuswinka/anaconda3/lib/python3.6/site-packages/pandas/core/indexing.py:189: SettingWithCopyWarning: \n",
      "A value is trying to be set on a copy of a slice from a DataFrame\n",
      "\n",
      "See the caveats in the documentation: http://pandas.pydata.org/pandas-docs/stable/indexing.html#indexing-view-versus-copy\n",
      "  self._setitem_with_indexer(indexer, value)\n"
     ]
    }
   ],
   "source": [
    "data_mi = meanimpute(data) \n",
    "nonboot_mi_mean = np.mean(data_mi.values)\n",
    "nonboot_mi_std = np.std(data_mi.values)\n",
    "print('\\n')\n",
    "print('For Mean Imputed:\\n')\n",
    "print('The mean is: ',nonboot_mi_mean, '\\nThe std is: ', nonboot_mi_std)\n"
   ]
  },
  {
   "cell_type": "markdown",
   "metadata": {},
   "source": [
    "<div class=\"answer-separator\">\n",
    "------------------------\n",
    "</div>"
   ]
  },
  {
   "cell_type": "markdown",
   "metadata": {},
   "source": [
    "<h4>3.4. Use non-parametric bootstrap on the mean imputed dataset to find the standard errors for both your mean and standard deviation estimates.</h4>"
   ]
  },
  {
   "cell_type": "code",
   "execution_count": 19,
   "metadata": {},
   "outputs": [
    {
     "name": "stdout",
     "output_type": "stream",
     "text": [
      "The SE of mean is:  0.02366214298004898\n",
      "The SE of std is:  0.002628252166988691\n"
     ]
    }
   ],
   "source": [
    "N = 10000\n",
    "mean, std = nonpar_boot(data_mi,N)\n",
    "\n",
    "print('The SE of mean is: ', np.mean(mean)/np.sqrt(N))\n",
    "print('The SE of std is: ', np.mean(std)/np.sqrt(N))"
   ]
  },
  {
   "cell_type": "markdown",
   "metadata": {},
   "source": [
    "<div class=\"answer-separator\">\n",
    "------------------------\n",
    "</div>"
   ]
  },
  {
   "cell_type": "markdown",
   "metadata": {},
   "source": [
    "<h4>3.5. Compare the standard errors between the two different types of imputation.  Do they differ?  If so what might be the cause of the difference?</h4>"
   ]
  },
  {
   "cell_type": "markdown",
   "metadata": {},
   "source": [
    "The standard error of the mean and STD for the mean imputed data set is slightly lower than that of the drop imputed.  This is likely due to the overrepresentation of the mean from the replaced NaN values.  The higher frequency of that value ultimately narrows the distribution and lowers the standard deviation. "
   ]
  },
  {
   "cell_type": "markdown",
   "metadata": {},
   "source": [
    "<div class=\"answer-separator\">\n",
    "------------------------\n",
    "</div>"
   ]
  }
 ],
 "metadata": {
  "anaconda-cloud": {},
  "kernel_info": {
   "name": "python3"
  },
  "kernelspec": {
   "display_name": "Python 3",
   "language": "python",
   "name": "python3"
  },
  "language_info": {
   "codemirror_mode": {
    "name": "ipython",
    "version": 3
   },
   "file_extension": ".py",
   "mimetype": "text/x-python",
   "name": "python",
   "nbconvert_exporter": "python",
   "pygments_lexer": "ipython3",
   "version": "3.6.1"
  },
  "nteract": {
   "version": "0.11.7"
  }
 },
 "nbformat": 4,
 "nbformat_minor": 2
}
